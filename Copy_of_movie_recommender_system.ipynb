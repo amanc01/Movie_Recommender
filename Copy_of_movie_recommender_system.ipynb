{
 "cells": [
  {
   "cell_type": "code",
   "execution_count": 3,
   "metadata": {
    "colab": {
     "base_uri": "https://localhost:8080/"
    },
    "id": "joOwHoQ0uUIP",
    "outputId": "6eb27fc0-eb85-4013-90c9-08d7a2082b5b"
   },
   "outputs": [],
   "source": [
    "import pandas as pd\n",
    "import numpy as np\n",
    "#from google.colab import drive\n",
    "\n",
    "# Mount Google Drive\n",
    "#drive.mount('/content/drive')\n",
    "\n",
    "# Read the movies and credits CSV files into pandas DataFrames\n",
    "movies = pd.read_csv('tmdb_5000_movies.csv')\n",
    "credits = pd.read_csv('tmdb_5000_credits.csv')\n",
    "\n",
    "# Merge the movies and credits DataFrames based on the 'title' column\n",
    "merged_df = movies.merge(credits, on='title')"
   ]
  },
  {
   "cell_type": "code",
   "execution_count": 4,
   "metadata": {
    "colab": {
     "base_uri": "https://localhost:8080/",
     "height": 396
    },
    "id": "X7w4Y3Obuahs",
    "outputId": "973cbf18-99f6-4023-a629-63854c0e0fbf"
   },
   "outputs": [
    {
     "data": {
      "text/html": [
       "<div>\n",
       "<style scoped>\n",
       "    .dataframe tbody tr th:only-of-type {\n",
       "        vertical-align: middle;\n",
       "    }\n",
       "\n",
       "    .dataframe tbody tr th {\n",
       "        vertical-align: top;\n",
       "    }\n",
       "\n",
       "    .dataframe thead th {\n",
       "        text-align: right;\n",
       "    }\n",
       "</style>\n",
       "<table border=\"1\" class=\"dataframe\">\n",
       "  <thead>\n",
       "    <tr style=\"text-align: right;\">\n",
       "      <th></th>\n",
       "      <th>budget</th>\n",
       "      <th>genres</th>\n",
       "      <th>homepage</th>\n",
       "      <th>id</th>\n",
       "      <th>keywords</th>\n",
       "      <th>original_language</th>\n",
       "      <th>original_title</th>\n",
       "      <th>overview</th>\n",
       "      <th>popularity</th>\n",
       "      <th>production_companies</th>\n",
       "      <th>...</th>\n",
       "      <th>runtime</th>\n",
       "      <th>spoken_languages</th>\n",
       "      <th>status</th>\n",
       "      <th>tagline</th>\n",
       "      <th>title</th>\n",
       "      <th>vote_average</th>\n",
       "      <th>vote_count</th>\n",
       "      <th>movie_id</th>\n",
       "      <th>cast</th>\n",
       "      <th>crew</th>\n",
       "    </tr>\n",
       "  </thead>\n",
       "  <tbody>\n",
       "    <tr>\n",
       "      <th>0</th>\n",
       "      <td>237000000</td>\n",
       "      <td>[{\"id\": 28, \"name\": \"Action\"}, {\"id\": 12, \"nam...</td>\n",
       "      <td>http://www.avatarmovie.com/</td>\n",
       "      <td>19995</td>\n",
       "      <td>[{\"id\": 1463, \"name\": \"culture clash\"}, {\"id\":...</td>\n",
       "      <td>en</td>\n",
       "      <td>Avatar</td>\n",
       "      <td>In the 22nd century, a paraplegic Marine is di...</td>\n",
       "      <td>150.437577</td>\n",
       "      <td>[{\"name\": \"Ingenious Film Partners\", \"id\": 289...</td>\n",
       "      <td>...</td>\n",
       "      <td>162.0</td>\n",
       "      <td>[{\"iso_639_1\": \"en\", \"name\": \"English\"}, {\"iso...</td>\n",
       "      <td>Released</td>\n",
       "      <td>Enter the World of Pandora.</td>\n",
       "      <td>Avatar</td>\n",
       "      <td>7.2</td>\n",
       "      <td>11800</td>\n",
       "      <td>19995</td>\n",
       "      <td>[{\"cast_id\": 242, \"character\": \"Jake Sully\", \"...</td>\n",
       "      <td>[{\"credit_id\": \"52fe48009251416c750aca23\", \"de...</td>\n",
       "    </tr>\n",
       "    <tr>\n",
       "      <th>1</th>\n",
       "      <td>300000000</td>\n",
       "      <td>[{\"id\": 12, \"name\": \"Adventure\"}, {\"id\": 14, \"...</td>\n",
       "      <td>http://disney.go.com/disneypictures/pirates/</td>\n",
       "      <td>285</td>\n",
       "      <td>[{\"id\": 270, \"name\": \"ocean\"}, {\"id\": 726, \"na...</td>\n",
       "      <td>en</td>\n",
       "      <td>Pirates of the Caribbean: At World's End</td>\n",
       "      <td>Captain Barbossa, long believed to be dead, ha...</td>\n",
       "      <td>139.082615</td>\n",
       "      <td>[{\"name\": \"Walt Disney Pictures\", \"id\": 2}, {\"...</td>\n",
       "      <td>...</td>\n",
       "      <td>169.0</td>\n",
       "      <td>[{\"iso_639_1\": \"en\", \"name\": \"English\"}]</td>\n",
       "      <td>Released</td>\n",
       "      <td>At the end of the world, the adventure begins.</td>\n",
       "      <td>Pirates of the Caribbean: At World's End</td>\n",
       "      <td>6.9</td>\n",
       "      <td>4500</td>\n",
       "      <td>285</td>\n",
       "      <td>[{\"cast_id\": 4, \"character\": \"Captain Jack Spa...</td>\n",
       "      <td>[{\"credit_id\": \"52fe4232c3a36847f800b579\", \"de...</td>\n",
       "    </tr>\n",
       "  </tbody>\n",
       "</table>\n",
       "<p>2 rows × 23 columns</p>\n",
       "</div>"
      ],
      "text/plain": [
       "      budget                                             genres  \\\n",
       "0  237000000  [{\"id\": 28, \"name\": \"Action\"}, {\"id\": 12, \"nam...   \n",
       "1  300000000  [{\"id\": 12, \"name\": \"Adventure\"}, {\"id\": 14, \"...   \n",
       "\n",
       "                                       homepage     id  \\\n",
       "0                   http://www.avatarmovie.com/  19995   \n",
       "1  http://disney.go.com/disneypictures/pirates/    285   \n",
       "\n",
       "                                            keywords original_language  \\\n",
       "0  [{\"id\": 1463, \"name\": \"culture clash\"}, {\"id\":...                en   \n",
       "1  [{\"id\": 270, \"name\": \"ocean\"}, {\"id\": 726, \"na...                en   \n",
       "\n",
       "                             original_title  \\\n",
       "0                                    Avatar   \n",
       "1  Pirates of the Caribbean: At World's End   \n",
       "\n",
       "                                            overview  popularity  \\\n",
       "0  In the 22nd century, a paraplegic Marine is di...  150.437577   \n",
       "1  Captain Barbossa, long believed to be dead, ha...  139.082615   \n",
       "\n",
       "                                production_companies  ... runtime  \\\n",
       "0  [{\"name\": \"Ingenious Film Partners\", \"id\": 289...  ...   162.0   \n",
       "1  [{\"name\": \"Walt Disney Pictures\", \"id\": 2}, {\"...  ...   169.0   \n",
       "\n",
       "                                    spoken_languages    status  \\\n",
       "0  [{\"iso_639_1\": \"en\", \"name\": \"English\"}, {\"iso...  Released   \n",
       "1           [{\"iso_639_1\": \"en\", \"name\": \"English\"}]  Released   \n",
       "\n",
       "                                          tagline  \\\n",
       "0                     Enter the World of Pandora.   \n",
       "1  At the end of the world, the adventure begins.   \n",
       "\n",
       "                                      title vote_average vote_count movie_id  \\\n",
       "0                                    Avatar          7.2      11800    19995   \n",
       "1  Pirates of the Caribbean: At World's End          6.9       4500      285   \n",
       "\n",
       "                                                cast  \\\n",
       "0  [{\"cast_id\": 242, \"character\": \"Jake Sully\", \"...   \n",
       "1  [{\"cast_id\": 4, \"character\": \"Captain Jack Spa...   \n",
       "\n",
       "                                                crew  \n",
       "0  [{\"credit_id\": \"52fe48009251416c750aca23\", \"de...  \n",
       "1  [{\"credit_id\": \"52fe4232c3a36847f800b579\", \"de...  \n",
       "\n",
       "[2 rows x 23 columns]"
      ]
     },
     "execution_count": 4,
     "metadata": {},
     "output_type": "execute_result"
    }
   ],
   "source": [
    "merged_df.head(2)"
   ]
  },
  {
   "cell_type": "code",
   "execution_count": 5,
   "metadata": {
    "colab": {
     "base_uri": "https://localhost:8080/"
    },
    "id": "n94kIPq7ujZY",
    "outputId": "81cfa723-e8d4-4717-8813-323ba1ee9d9a"
   },
   "outputs": [
    {
     "name": "stdout",
     "output_type": "stream",
     "text": [
      "<class 'pandas.core.frame.DataFrame'>\n",
      "Int64Index: 4809 entries, 0 to 4808\n",
      "Data columns (total 23 columns):\n",
      " #   Column                Non-Null Count  Dtype  \n",
      "---  ------                --------------  -----  \n",
      " 0   budget                4809 non-null   int64  \n",
      " 1   genres                4809 non-null   object \n",
      " 2   homepage              1713 non-null   object \n",
      " 3   id                    4809 non-null   int64  \n",
      " 4   keywords              4809 non-null   object \n",
      " 5   original_language     4809 non-null   object \n",
      " 6   original_title        4809 non-null   object \n",
      " 7   overview              4806 non-null   object \n",
      " 8   popularity            4809 non-null   float64\n",
      " 9   production_companies  4809 non-null   object \n",
      " 10  production_countries  4809 non-null   object \n",
      " 11  release_date          4808 non-null   object \n",
      " 12  revenue               4809 non-null   int64  \n",
      " 13  runtime               4807 non-null   float64\n",
      " 14  spoken_languages      4809 non-null   object \n",
      " 15  status                4809 non-null   object \n",
      " 16  tagline               3965 non-null   object \n",
      " 17  title                 4809 non-null   object \n",
      " 18  vote_average          4809 non-null   float64\n",
      " 19  vote_count            4809 non-null   int64  \n",
      " 20  movie_id              4809 non-null   int64  \n",
      " 21  cast                  4809 non-null   object \n",
      " 22  crew                  4809 non-null   object \n",
      "dtypes: float64(3), int64(5), object(15)\n",
      "memory usage: 901.7+ KB\n"
     ]
    }
   ],
   "source": [
    "merged_df.info()"
   ]
  },
  {
   "cell_type": "code",
   "execution_count": 6,
   "metadata": {
    "id": "tsXu7gT1udIr"
   },
   "outputs": [],
   "source": [
    "# will drop some columns which are not revelent with the model"
   ]
  },
  {
   "cell_type": "code",
   "execution_count": 7,
   "metadata": {
    "id": "lzFoxZpPvnSQ"
   },
   "outputs": [],
   "source": [
    "merged_df = merged_df[['movie_id','title','overview','genres','keywords','cast','crew']]"
   ]
  },
  {
   "cell_type": "code",
   "execution_count": 8,
   "metadata": {
    "colab": {
     "base_uri": "https://localhost:8080/",
     "height": 329
    },
    "id": "VoH0vlA2wU8E",
    "outputId": "12ffd15a-aa41-49a2-f07d-81270c0cae03"
   },
   "outputs": [
    {
     "data": {
      "text/html": [
       "<div>\n",
       "<style scoped>\n",
       "    .dataframe tbody tr th:only-of-type {\n",
       "        vertical-align: middle;\n",
       "    }\n",
       "\n",
       "    .dataframe tbody tr th {\n",
       "        vertical-align: top;\n",
       "    }\n",
       "\n",
       "    .dataframe thead th {\n",
       "        text-align: right;\n",
       "    }\n",
       "</style>\n",
       "<table border=\"1\" class=\"dataframe\">\n",
       "  <thead>\n",
       "    <tr style=\"text-align: right;\">\n",
       "      <th></th>\n",
       "      <th>movie_id</th>\n",
       "      <th>title</th>\n",
       "      <th>overview</th>\n",
       "      <th>genres</th>\n",
       "      <th>keywords</th>\n",
       "      <th>cast</th>\n",
       "      <th>crew</th>\n",
       "    </tr>\n",
       "  </thead>\n",
       "  <tbody>\n",
       "    <tr>\n",
       "      <th>0</th>\n",
       "      <td>19995</td>\n",
       "      <td>Avatar</td>\n",
       "      <td>In the 22nd century, a paraplegic Marine is di...</td>\n",
       "      <td>[{\"id\": 28, \"name\": \"Action\"}, {\"id\": 12, \"nam...</td>\n",
       "      <td>[{\"id\": 1463, \"name\": \"culture clash\"}, {\"id\":...</td>\n",
       "      <td>[{\"cast_id\": 242, \"character\": \"Jake Sully\", \"...</td>\n",
       "      <td>[{\"credit_id\": \"52fe48009251416c750aca23\", \"de...</td>\n",
       "    </tr>\n",
       "    <tr>\n",
       "      <th>1</th>\n",
       "      <td>285</td>\n",
       "      <td>Pirates of the Caribbean: At World's End</td>\n",
       "      <td>Captain Barbossa, long believed to be dead, ha...</td>\n",
       "      <td>[{\"id\": 12, \"name\": \"Adventure\"}, {\"id\": 14, \"...</td>\n",
       "      <td>[{\"id\": 270, \"name\": \"ocean\"}, {\"id\": 726, \"na...</td>\n",
       "      <td>[{\"cast_id\": 4, \"character\": \"Captain Jack Spa...</td>\n",
       "      <td>[{\"credit_id\": \"52fe4232c3a36847f800b579\", \"de...</td>\n",
       "    </tr>\n",
       "  </tbody>\n",
       "</table>\n",
       "</div>"
      ],
      "text/plain": [
       "   movie_id                                     title  \\\n",
       "0     19995                                    Avatar   \n",
       "1       285  Pirates of the Caribbean: At World's End   \n",
       "\n",
       "                                            overview  \\\n",
       "0  In the 22nd century, a paraplegic Marine is di...   \n",
       "1  Captain Barbossa, long believed to be dead, ha...   \n",
       "\n",
       "                                              genres  \\\n",
       "0  [{\"id\": 28, \"name\": \"Action\"}, {\"id\": 12, \"nam...   \n",
       "1  [{\"id\": 12, \"name\": \"Adventure\"}, {\"id\": 14, \"...   \n",
       "\n",
       "                                            keywords  \\\n",
       "0  [{\"id\": 1463, \"name\": \"culture clash\"}, {\"id\":...   \n",
       "1  [{\"id\": 270, \"name\": \"ocean\"}, {\"id\": 726, \"na...   \n",
       "\n",
       "                                                cast  \\\n",
       "0  [{\"cast_id\": 242, \"character\": \"Jake Sully\", \"...   \n",
       "1  [{\"cast_id\": 4, \"character\": \"Captain Jack Spa...   \n",
       "\n",
       "                                                crew  \n",
       "0  [{\"credit_id\": \"52fe48009251416c750aca23\", \"de...  \n",
       "1  [{\"credit_id\": \"52fe4232c3a36847f800b579\", \"de...  "
      ]
     },
     "execution_count": 8,
     "metadata": {},
     "output_type": "execute_result"
    }
   ],
   "source": [
    "merged_df.head(2)"
   ]
  },
  {
   "cell_type": "code",
   "execution_count": 9,
   "metadata": {
    "id": "kWBYpy9Owba0"
   },
   "outputs": [],
   "source": [
    "# doing some preprocessing on geners keywords cast and crew"
   ]
  },
  {
   "cell_type": "code",
   "execution_count": 10,
   "metadata": {
    "colab": {
     "base_uri": "https://localhost:8080/"
    },
    "id": "j0JlXzIuw2RX",
    "outputId": "a4ba9c67-af48-412b-c6f9-99773c2b78b1"
   },
   "outputs": [
    {
     "data": {
      "text/plain": [
       "movie_id    0\n",
       "title       0\n",
       "overview    3\n",
       "genres      0\n",
       "keywords    0\n",
       "cast        0\n",
       "crew        0\n",
       "dtype: int64"
      ]
     },
     "execution_count": 10,
     "metadata": {},
     "output_type": "execute_result"
    }
   ],
   "source": [
    "# missing data\n",
    "merged_df.isnull().sum()"
   ]
  },
  {
   "cell_type": "code",
   "execution_count": 11,
   "metadata": {
    "id": "6uAgWuHfxAum"
   },
   "outputs": [],
   "source": [
    "merged_df.dropna(inplace=True)"
   ]
  },
  {
   "cell_type": "code",
   "execution_count": 12,
   "metadata": {
    "colab": {
     "base_uri": "https://localhost:8080/"
    },
    "id": "zGPt5jf7xHYJ",
    "outputId": "cf5a6243-aab0-469a-f72a-1494b5e6bb13"
   },
   "outputs": [
    {
     "data": {
      "text/plain": [
       "0"
      ]
     },
     "execution_count": 12,
     "metadata": {},
     "output_type": "execute_result"
    }
   ],
   "source": [
    "merged_df.duplicated().sum()"
   ]
  },
  {
   "cell_type": "code",
   "execution_count": 13,
   "metadata": {
    "colab": {
     "base_uri": "https://localhost:8080/",
     "height": 53
    },
    "id": "uLm_ugqGxTlX",
    "outputId": "21b749fd-196c-4831-b22d-3fcd72879b8b"
   },
   "outputs": [
    {
     "data": {
      "text/plain": [
       "'[{\"id\": 28, \"name\": \"Action\"}, {\"id\": 12, \"name\": \"Adventure\"}, {\"id\": 14, \"name\": \"Fantasy\"}, {\"id\": 878, \"name\": \"Science Fiction\"}]'"
      ]
     },
     "execution_count": 13,
     "metadata": {},
     "output_type": "execute_result"
    }
   ],
   "source": [
    "merged_df.iloc[0].genres"
   ]
  },
  {
   "cell_type": "code",
   "execution_count": 14,
   "metadata": {
    "id": "xw7AwEiXyLri"
   },
   "outputs": [],
   "source": [
    "import ast"
   ]
  },
  {
   "cell_type": "code",
   "execution_count": 15,
   "metadata": {
    "id": "_ZPBOLoDxewo"
   },
   "outputs": [],
   "source": [
    "def convert(obj):\n",
    "    l = []\n",
    "    for i in ast.literal_eval(obj):\n",
    "        l.append(i['name'])\n",
    "    return l\n"
   ]
  },
  {
   "cell_type": "code",
   "execution_count": 16,
   "metadata": {
    "id": "fTD6V5pexLLk"
   },
   "outputs": [],
   "source": [
    "merged_df['genres'] = merged_df['genres'].apply(convert)"
   ]
  },
  {
   "cell_type": "code",
   "execution_count": 17,
   "metadata": {
    "id": "epKQZ1s9BDVk"
   },
   "outputs": [],
   "source": [
    "merged_df['keywords'] = merged_df['keywords'].apply(convert)"
   ]
  },
  {
   "cell_type": "code",
   "execution_count": 18,
   "metadata": {
    "colab": {
     "base_uri": "https://localhost:8080/",
     "height": 347
    },
    "id": "wpL7HxnxBNKX",
    "outputId": "22337210-89c1-4b90-f459-346ac9ced831"
   },
   "outputs": [
    {
     "data": {
      "text/html": [
       "<div>\n",
       "<style scoped>\n",
       "    .dataframe tbody tr th:only-of-type {\n",
       "        vertical-align: middle;\n",
       "    }\n",
       "\n",
       "    .dataframe tbody tr th {\n",
       "        vertical-align: top;\n",
       "    }\n",
       "\n",
       "    .dataframe thead th {\n",
       "        text-align: right;\n",
       "    }\n",
       "</style>\n",
       "<table border=\"1\" class=\"dataframe\">\n",
       "  <thead>\n",
       "    <tr style=\"text-align: right;\">\n",
       "      <th></th>\n",
       "      <th>movie_id</th>\n",
       "      <th>title</th>\n",
       "      <th>overview</th>\n",
       "      <th>genres</th>\n",
       "      <th>keywords</th>\n",
       "      <th>cast</th>\n",
       "      <th>crew</th>\n",
       "    </tr>\n",
       "  </thead>\n",
       "  <tbody>\n",
       "    <tr>\n",
       "      <th>0</th>\n",
       "      <td>19995</td>\n",
       "      <td>Avatar</td>\n",
       "      <td>In the 22nd century, a paraplegic Marine is di...</td>\n",
       "      <td>[Action, Adventure, Fantasy, Science Fiction]</td>\n",
       "      <td>[culture clash, future, space war, space colon...</td>\n",
       "      <td>[{\"cast_id\": 242, \"character\": \"Jake Sully\", \"...</td>\n",
       "      <td>[{\"credit_id\": \"52fe48009251416c750aca23\", \"de...</td>\n",
       "    </tr>\n",
       "    <tr>\n",
       "      <th>1</th>\n",
       "      <td>285</td>\n",
       "      <td>Pirates of the Caribbean: At World's End</td>\n",
       "      <td>Captain Barbossa, long believed to be dead, ha...</td>\n",
       "      <td>[Adventure, Fantasy, Action]</td>\n",
       "      <td>[ocean, drug abuse, exotic island, east india ...</td>\n",
       "      <td>[{\"cast_id\": 4, \"character\": \"Captain Jack Spa...</td>\n",
       "      <td>[{\"credit_id\": \"52fe4232c3a36847f800b579\", \"de...</td>\n",
       "    </tr>\n",
       "  </tbody>\n",
       "</table>\n",
       "</div>"
      ],
      "text/plain": [
       "   movie_id                                     title  \\\n",
       "0     19995                                    Avatar   \n",
       "1       285  Pirates of the Caribbean: At World's End   \n",
       "\n",
       "                                            overview  \\\n",
       "0  In the 22nd century, a paraplegic Marine is di...   \n",
       "1  Captain Barbossa, long believed to be dead, ha...   \n",
       "\n",
       "                                          genres  \\\n",
       "0  [Action, Adventure, Fantasy, Science Fiction]   \n",
       "1                   [Adventure, Fantasy, Action]   \n",
       "\n",
       "                                            keywords  \\\n",
       "0  [culture clash, future, space war, space colon...   \n",
       "1  [ocean, drug abuse, exotic island, east india ...   \n",
       "\n",
       "                                                cast  \\\n",
       "0  [{\"cast_id\": 242, \"character\": \"Jake Sully\", \"...   \n",
       "1  [{\"cast_id\": 4, \"character\": \"Captain Jack Spa...   \n",
       "\n",
       "                                                crew  \n",
       "0  [{\"credit_id\": \"52fe48009251416c750aca23\", \"de...  \n",
       "1  [{\"credit_id\": \"52fe4232c3a36847f800b579\", \"de...  "
      ]
     },
     "execution_count": 18,
     "metadata": {},
     "output_type": "execute_result"
    }
   ],
   "source": [
    "merged_df.head(2)"
   ]
  },
  {
   "cell_type": "code",
   "execution_count": 19,
   "metadata": {
    "id": "BtO5LuDbBoAC"
   },
   "outputs": [],
   "source": [
    "def convert1(obj):\n",
    "    l = []\n",
    "    counter = 0\n",
    "    for i in ast.literal_eval(obj):\n",
    "      if counter != 3:\n",
    "        l.append(i['name'])\n",
    "        counter+=1\n",
    "      else:\n",
    "        break\n",
    "    return l"
   ]
  },
  {
   "cell_type": "code",
   "execution_count": 20,
   "metadata": {
    "id": "UVuttuKNBg8O"
   },
   "outputs": [],
   "source": [
    "merged_df['cast'] = merged_df['cast'].apply(convert1)"
   ]
  },
  {
   "cell_type": "code",
   "execution_count": 21,
   "metadata": {
    "colab": {
     "base_uri": "https://localhost:8080/",
     "height": 211
    },
    "id": "mL9D5k5RCXX4",
    "outputId": "f8f0d5d8-baaf-43e8-c07f-b70ce71b2494"
   },
   "outputs": [
    {
     "data": {
      "text/html": [
       "<div>\n",
       "<style scoped>\n",
       "    .dataframe tbody tr th:only-of-type {\n",
       "        vertical-align: middle;\n",
       "    }\n",
       "\n",
       "    .dataframe tbody tr th {\n",
       "        vertical-align: top;\n",
       "    }\n",
       "\n",
       "    .dataframe thead th {\n",
       "        text-align: right;\n",
       "    }\n",
       "</style>\n",
       "<table border=\"1\" class=\"dataframe\">\n",
       "  <thead>\n",
       "    <tr style=\"text-align: right;\">\n",
       "      <th></th>\n",
       "      <th>movie_id</th>\n",
       "      <th>title</th>\n",
       "      <th>overview</th>\n",
       "      <th>genres</th>\n",
       "      <th>keywords</th>\n",
       "      <th>cast</th>\n",
       "      <th>crew</th>\n",
       "    </tr>\n",
       "  </thead>\n",
       "  <tbody>\n",
       "    <tr>\n",
       "      <th>0</th>\n",
       "      <td>19995</td>\n",
       "      <td>Avatar</td>\n",
       "      <td>In the 22nd century, a paraplegic Marine is di...</td>\n",
       "      <td>[Action, Adventure, Fantasy, Science Fiction]</td>\n",
       "      <td>[culture clash, future, space war, space colon...</td>\n",
       "      <td>[Sam Worthington, Zoe Saldana, Sigourney Weaver]</td>\n",
       "      <td>[{\"credit_id\": \"52fe48009251416c750aca23\", \"de...</td>\n",
       "    </tr>\n",
       "  </tbody>\n",
       "</table>\n",
       "</div>"
      ],
      "text/plain": [
       "   movie_id   title                                           overview  \\\n",
       "0     19995  Avatar  In the 22nd century, a paraplegic Marine is di...   \n",
       "\n",
       "                                          genres  \\\n",
       "0  [Action, Adventure, Fantasy, Science Fiction]   \n",
       "\n",
       "                                            keywords  \\\n",
       "0  [culture clash, future, space war, space colon...   \n",
       "\n",
       "                                               cast  \\\n",
       "0  [Sam Worthington, Zoe Saldana, Sigourney Weaver]   \n",
       "\n",
       "                                                crew  \n",
       "0  [{\"credit_id\": \"52fe48009251416c750aca23\", \"de...  "
      ]
     },
     "execution_count": 21,
     "metadata": {},
     "output_type": "execute_result"
    }
   ],
   "source": [
    "merged_df.head(1)"
   ]
  },
  {
   "cell_type": "code",
   "execution_count": 22,
   "metadata": {
    "id": "QWdTaMalCc-j"
   },
   "outputs": [],
   "source": [
    "def fetch_dir(obj):\n",
    "  l =[]\n",
    "  for i in ast.literal_eval(obj):\n",
    "    if i['job'] == 'Director':\n",
    "      l.append(i['name'])\n",
    "      break\n",
    "  return l"
   ]
  },
  {
   "cell_type": "code",
   "execution_count": 23,
   "metadata": {
    "id": "rearRCOgCzz8"
   },
   "outputs": [],
   "source": [
    "merged_df['crew'] = merged_df['crew'].apply(fetch_dir)"
   ]
  },
  {
   "cell_type": "code",
   "execution_count": 24,
   "metadata": {
    "colab": {
     "base_uri": "https://localhost:8080/",
     "height": 277
    },
    "id": "gJ3R0Q8xCSVl",
    "outputId": "3ed3f5be-81c9-445c-b70b-5ba6d8ef8709"
   },
   "outputs": [
    {
     "data": {
      "text/html": [
       "<div>\n",
       "<style scoped>\n",
       "    .dataframe tbody tr th:only-of-type {\n",
       "        vertical-align: middle;\n",
       "    }\n",
       "\n",
       "    .dataframe tbody tr th {\n",
       "        vertical-align: top;\n",
       "    }\n",
       "\n",
       "    .dataframe thead th {\n",
       "        text-align: right;\n",
       "    }\n",
       "</style>\n",
       "<table border=\"1\" class=\"dataframe\">\n",
       "  <thead>\n",
       "    <tr style=\"text-align: right;\">\n",
       "      <th></th>\n",
       "      <th>movie_id</th>\n",
       "      <th>title</th>\n",
       "      <th>overview</th>\n",
       "      <th>genres</th>\n",
       "      <th>keywords</th>\n",
       "      <th>cast</th>\n",
       "      <th>crew</th>\n",
       "    </tr>\n",
       "  </thead>\n",
       "  <tbody>\n",
       "    <tr>\n",
       "      <th>0</th>\n",
       "      <td>19995</td>\n",
       "      <td>Avatar</td>\n",
       "      <td>In the 22nd century, a paraplegic Marine is di...</td>\n",
       "      <td>[Action, Adventure, Fantasy, Science Fiction]</td>\n",
       "      <td>[culture clash, future, space war, space colon...</td>\n",
       "      <td>[Sam Worthington, Zoe Saldana, Sigourney Weaver]</td>\n",
       "      <td>[James Cameron]</td>\n",
       "    </tr>\n",
       "    <tr>\n",
       "      <th>1</th>\n",
       "      <td>285</td>\n",
       "      <td>Pirates of the Caribbean: At World's End</td>\n",
       "      <td>Captain Barbossa, long believed to be dead, ha...</td>\n",
       "      <td>[Adventure, Fantasy, Action]</td>\n",
       "      <td>[ocean, drug abuse, exotic island, east india ...</td>\n",
       "      <td>[Johnny Depp, Orlando Bloom, Keira Knightley]</td>\n",
       "      <td>[Gore Verbinski]</td>\n",
       "    </tr>\n",
       "  </tbody>\n",
       "</table>\n",
       "</div>"
      ],
      "text/plain": [
       "   movie_id                                     title  \\\n",
       "0     19995                                    Avatar   \n",
       "1       285  Pirates of the Caribbean: At World's End   \n",
       "\n",
       "                                            overview  \\\n",
       "0  In the 22nd century, a paraplegic Marine is di...   \n",
       "1  Captain Barbossa, long believed to be dead, ha...   \n",
       "\n",
       "                                          genres  \\\n",
       "0  [Action, Adventure, Fantasy, Science Fiction]   \n",
       "1                   [Adventure, Fantasy, Action]   \n",
       "\n",
       "                                            keywords  \\\n",
       "0  [culture clash, future, space war, space colon...   \n",
       "1  [ocean, drug abuse, exotic island, east india ...   \n",
       "\n",
       "                                               cast              crew  \n",
       "0  [Sam Worthington, Zoe Saldana, Sigourney Weaver]   [James Cameron]  \n",
       "1     [Johnny Depp, Orlando Bloom, Keira Knightley]  [Gore Verbinski]  "
      ]
     },
     "execution_count": 24,
     "metadata": {},
     "output_type": "execute_result"
    }
   ],
   "source": [
    "merged_df.head(2)"
   ]
  },
  {
   "cell_type": "markdown",
   "metadata": {
    "id": "2SLyS7JJDz01"
   },
   "source": [
    "converting overview into a list so that we can concat it with the rest"
   ]
  },
  {
   "cell_type": "code",
   "execution_count": 25,
   "metadata": {
    "id": "68fedgmaA-lj"
   },
   "outputs": [],
   "source": [
    "merged_df['overview'] = merged_df['overview'].apply(lambda x:x.split())"
   ]
  },
  {
   "cell_type": "code",
   "execution_count": 26,
   "metadata": {
    "id": "EitUVNxzyiVs"
   },
   "outputs": [],
   "source": [
    "merged_df['genres'] = merged_df['genres'].apply(lambda x:[i.replace(\" \",\"\") for i in x])\n",
    "merged_df['keywords'] = merged_df['keywords'].apply(lambda x:[i.replace(\" \",\"\") for i in x])\n",
    "merged_df['cast'] = merged_df['cast'].apply(lambda x:[i.replace(\" \",\"\") for i in x])\n",
    "merged_df['crew'] = merged_df['crew'].apply(lambda x:[i.replace(\" \",\"\") for i in x])"
   ]
  },
  {
   "cell_type": "code",
   "execution_count": 27,
   "metadata": {
    "colab": {
     "base_uri": "https://localhost:8080/",
     "height": 295
    },
    "id": "04-AO7hAwPkE",
    "outputId": "0c2bb807-7d5d-4aae-b7ca-780d10226ee5"
   },
   "outputs": [
    {
     "data": {
      "text/html": [
       "<div>\n",
       "<style scoped>\n",
       "    .dataframe tbody tr th:only-of-type {\n",
       "        vertical-align: middle;\n",
       "    }\n",
       "\n",
       "    .dataframe tbody tr th {\n",
       "        vertical-align: top;\n",
       "    }\n",
       "\n",
       "    .dataframe thead th {\n",
       "        text-align: right;\n",
       "    }\n",
       "</style>\n",
       "<table border=\"1\" class=\"dataframe\">\n",
       "  <thead>\n",
       "    <tr style=\"text-align: right;\">\n",
       "      <th></th>\n",
       "      <th>movie_id</th>\n",
       "      <th>title</th>\n",
       "      <th>overview</th>\n",
       "      <th>genres</th>\n",
       "      <th>keywords</th>\n",
       "      <th>cast</th>\n",
       "      <th>crew</th>\n",
       "    </tr>\n",
       "  </thead>\n",
       "  <tbody>\n",
       "    <tr>\n",
       "      <th>0</th>\n",
       "      <td>19995</td>\n",
       "      <td>Avatar</td>\n",
       "      <td>[In, the, 22nd, century,, a, paraplegic, Marin...</td>\n",
       "      <td>[Action, Adventure, Fantasy, ScienceFiction]</td>\n",
       "      <td>[cultureclash, future, spacewar, spacecolony, ...</td>\n",
       "      <td>[SamWorthington, ZoeSaldana, SigourneyWeaver]</td>\n",
       "      <td>[JamesCameron]</td>\n",
       "    </tr>\n",
       "    <tr>\n",
       "      <th>1</th>\n",
       "      <td>285</td>\n",
       "      <td>Pirates of the Caribbean: At World's End</td>\n",
       "      <td>[Captain, Barbossa,, long, believed, to, be, d...</td>\n",
       "      <td>[Adventure, Fantasy, Action]</td>\n",
       "      <td>[ocean, drugabuse, exoticisland, eastindiatrad...</td>\n",
       "      <td>[JohnnyDepp, OrlandoBloom, KeiraKnightley]</td>\n",
       "      <td>[GoreVerbinski]</td>\n",
       "    </tr>\n",
       "  </tbody>\n",
       "</table>\n",
       "</div>"
      ],
      "text/plain": [
       "   movie_id                                     title  \\\n",
       "0     19995                                    Avatar   \n",
       "1       285  Pirates of the Caribbean: At World's End   \n",
       "\n",
       "                                            overview  \\\n",
       "0  [In, the, 22nd, century,, a, paraplegic, Marin...   \n",
       "1  [Captain, Barbossa,, long, believed, to, be, d...   \n",
       "\n",
       "                                         genres  \\\n",
       "0  [Action, Adventure, Fantasy, ScienceFiction]   \n",
       "1                  [Adventure, Fantasy, Action]   \n",
       "\n",
       "                                            keywords  \\\n",
       "0  [cultureclash, future, spacewar, spacecolony, ...   \n",
       "1  [ocean, drugabuse, exoticisland, eastindiatrad...   \n",
       "\n",
       "                                            cast             crew  \n",
       "0  [SamWorthington, ZoeSaldana, SigourneyWeaver]   [JamesCameron]  \n",
       "1     [JohnnyDepp, OrlandoBloom, KeiraKnightley]  [GoreVerbinski]  "
      ]
     },
     "execution_count": 27,
     "metadata": {},
     "output_type": "execute_result"
    }
   ],
   "source": [
    "merged_df.head(2)"
   ]
  },
  {
   "cell_type": "code",
   "execution_count": 28,
   "metadata": {
    "id": "7yp5MKVeEqto"
   },
   "outputs": [],
   "source": [
    "merged_df['tags'] = merged_df['overview'] + merged_df['genres']+ merged_df['keywords']+merged_df['cast']+merged_df['crew']"
   ]
  },
  {
   "cell_type": "code",
   "execution_count": 29,
   "metadata": {
    "id": "lAwuRpJIGRES"
   },
   "outputs": [],
   "source": [
    "#creating new dataframe because we only want these three col only"
   ]
  },
  {
   "cell_type": "code",
   "execution_count": 30,
   "metadata": {
    "id": "DXJ7GdCfEoD-"
   },
   "outputs": [],
   "source": [
    "new_df = merged_df[['movie_id','title','tags']]"
   ]
  },
  {
   "cell_type": "code",
   "execution_count": 31,
   "metadata": {
    "colab": {
     "base_uri": "https://localhost:8080/",
     "height": 206
    },
    "id": "wLT-nnuhGZE7",
    "outputId": "037990ae-83e8-428f-a521-0284fed62b56"
   },
   "outputs": [
    {
     "data": {
      "text/html": [
       "<div>\n",
       "<style scoped>\n",
       "    .dataframe tbody tr th:only-of-type {\n",
       "        vertical-align: middle;\n",
       "    }\n",
       "\n",
       "    .dataframe tbody tr th {\n",
       "        vertical-align: top;\n",
       "    }\n",
       "\n",
       "    .dataframe thead th {\n",
       "        text-align: right;\n",
       "    }\n",
       "</style>\n",
       "<table border=\"1\" class=\"dataframe\">\n",
       "  <thead>\n",
       "    <tr style=\"text-align: right;\">\n",
       "      <th></th>\n",
       "      <th>movie_id</th>\n",
       "      <th>title</th>\n",
       "      <th>tags</th>\n",
       "    </tr>\n",
       "  </thead>\n",
       "  <tbody>\n",
       "    <tr>\n",
       "      <th>0</th>\n",
       "      <td>19995</td>\n",
       "      <td>Avatar</td>\n",
       "      <td>[In, the, 22nd, century,, a, paraplegic, Marin...</td>\n",
       "    </tr>\n",
       "    <tr>\n",
       "      <th>1</th>\n",
       "      <td>285</td>\n",
       "      <td>Pirates of the Caribbean: At World's End</td>\n",
       "      <td>[Captain, Barbossa,, long, believed, to, be, d...</td>\n",
       "    </tr>\n",
       "    <tr>\n",
       "      <th>2</th>\n",
       "      <td>206647</td>\n",
       "      <td>Spectre</td>\n",
       "      <td>[A, cryptic, message, from, Bond’s, past, send...</td>\n",
       "    </tr>\n",
       "    <tr>\n",
       "      <th>3</th>\n",
       "      <td>49026</td>\n",
       "      <td>The Dark Knight Rises</td>\n",
       "      <td>[Following, the, death, of, District, Attorney...</td>\n",
       "    </tr>\n",
       "    <tr>\n",
       "      <th>4</th>\n",
       "      <td>49529</td>\n",
       "      <td>John Carter</td>\n",
       "      <td>[John, Carter, is, a, war-weary,, former, mili...</td>\n",
       "    </tr>\n",
       "  </tbody>\n",
       "</table>\n",
       "</div>"
      ],
      "text/plain": [
       "   movie_id                                     title  \\\n",
       "0     19995                                    Avatar   \n",
       "1       285  Pirates of the Caribbean: At World's End   \n",
       "2    206647                                   Spectre   \n",
       "3     49026                     The Dark Knight Rises   \n",
       "4     49529                               John Carter   \n",
       "\n",
       "                                                tags  \n",
       "0  [In, the, 22nd, century,, a, paraplegic, Marin...  \n",
       "1  [Captain, Barbossa,, long, believed, to, be, d...  \n",
       "2  [A, cryptic, message, from, Bond’s, past, send...  \n",
       "3  [Following, the, death, of, District, Attorney...  \n",
       "4  [John, Carter, is, a, war-weary,, former, mili...  "
      ]
     },
     "execution_count": 31,
     "metadata": {},
     "output_type": "execute_result"
    }
   ],
   "source": [
    "new_df.head()"
   ]
  },
  {
   "cell_type": "code",
   "execution_count": 32,
   "metadata": {
    "colab": {
     "base_uri": "https://localhost:8080/"
    },
    "id": "_zkjiVKpGcV6",
    "outputId": "e816e967-0965-4e1a-d3cb-2092a3451df6"
   },
   "outputs": [
    {
     "name": "stderr",
     "output_type": "stream",
     "text": [
      "C:\\Users\\amanc\\AppData\\Local\\Temp\\ipykernel_15488\\3089450492.py:1: SettingWithCopyWarning: \n",
      "A value is trying to be set on a copy of a slice from a DataFrame.\n",
      "Try using .loc[row_indexer,col_indexer] = value instead\n",
      "\n",
      "See the caveats in the documentation: https://pandas.pydata.org/pandas-docs/stable/user_guide/indexing.html#returning-a-view-versus-a-copy\n",
      "  new_df['tags'] = new_df['tags'].apply(lambda x:\" \".join(x))\n"
     ]
    }
   ],
   "source": [
    "new_df['tags'] = new_df['tags'].apply(lambda x:\" \".join(x))"
   ]
  },
  {
   "cell_type": "code",
   "execution_count": 33,
   "metadata": {
    "colab": {
     "base_uri": "https://localhost:8080/",
     "height": 206
    },
    "id": "x_P4quyjGnY0",
    "outputId": "9d0aa08c-f8a1-4e7f-b232-6025a8a25599"
   },
   "outputs": [
    {
     "data": {
      "text/html": [
       "<div>\n",
       "<style scoped>\n",
       "    .dataframe tbody tr th:only-of-type {\n",
       "        vertical-align: middle;\n",
       "    }\n",
       "\n",
       "    .dataframe tbody tr th {\n",
       "        vertical-align: top;\n",
       "    }\n",
       "\n",
       "    .dataframe thead th {\n",
       "        text-align: right;\n",
       "    }\n",
       "</style>\n",
       "<table border=\"1\" class=\"dataframe\">\n",
       "  <thead>\n",
       "    <tr style=\"text-align: right;\">\n",
       "      <th></th>\n",
       "      <th>movie_id</th>\n",
       "      <th>title</th>\n",
       "      <th>tags</th>\n",
       "    </tr>\n",
       "  </thead>\n",
       "  <tbody>\n",
       "    <tr>\n",
       "      <th>0</th>\n",
       "      <td>19995</td>\n",
       "      <td>Avatar</td>\n",
       "      <td>In the 22nd century, a paraplegic Marine is di...</td>\n",
       "    </tr>\n",
       "    <tr>\n",
       "      <th>1</th>\n",
       "      <td>285</td>\n",
       "      <td>Pirates of the Caribbean: At World's End</td>\n",
       "      <td>Captain Barbossa, long believed to be dead, ha...</td>\n",
       "    </tr>\n",
       "    <tr>\n",
       "      <th>2</th>\n",
       "      <td>206647</td>\n",
       "      <td>Spectre</td>\n",
       "      <td>A cryptic message from Bond’s past sends him o...</td>\n",
       "    </tr>\n",
       "    <tr>\n",
       "      <th>3</th>\n",
       "      <td>49026</td>\n",
       "      <td>The Dark Knight Rises</td>\n",
       "      <td>Following the death of District Attorney Harve...</td>\n",
       "    </tr>\n",
       "    <tr>\n",
       "      <th>4</th>\n",
       "      <td>49529</td>\n",
       "      <td>John Carter</td>\n",
       "      <td>John Carter is a war-weary, former military ca...</td>\n",
       "    </tr>\n",
       "  </tbody>\n",
       "</table>\n",
       "</div>"
      ],
      "text/plain": [
       "   movie_id                                     title  \\\n",
       "0     19995                                    Avatar   \n",
       "1       285  Pirates of the Caribbean: At World's End   \n",
       "2    206647                                   Spectre   \n",
       "3     49026                     The Dark Knight Rises   \n",
       "4     49529                               John Carter   \n",
       "\n",
       "                                                tags  \n",
       "0  In the 22nd century, a paraplegic Marine is di...  \n",
       "1  Captain Barbossa, long believed to be dead, ha...  \n",
       "2  A cryptic message from Bond’s past sends him o...  \n",
       "3  Following the death of District Attorney Harve...  \n",
       "4  John Carter is a war-weary, former military ca...  "
      ]
     },
     "execution_count": 33,
     "metadata": {},
     "output_type": "execute_result"
    }
   ],
   "source": [
    "new_df.head()"
   ]
  },
  {
   "cell_type": "code",
   "execution_count": 34,
   "metadata": {
    "id": "UK1GTbJKGuTD"
   },
   "outputs": [],
   "source": [
    "# changing every thing to lower_case"
   ]
  },
  {
   "cell_type": "code",
   "execution_count": 35,
   "metadata": {
    "colab": {
     "base_uri": "https://localhost:8080/"
    },
    "id": "wo6KZj-3HeA_",
    "outputId": "48e5de66-51ae-4628-8e84-5d46376ec468"
   },
   "outputs": [
    {
     "name": "stderr",
     "output_type": "stream",
     "text": [
      "C:\\Users\\amanc\\AppData\\Local\\Temp\\ipykernel_15488\\3214958533.py:1: SettingWithCopyWarning: \n",
      "A value is trying to be set on a copy of a slice from a DataFrame.\n",
      "Try using .loc[row_indexer,col_indexer] = value instead\n",
      "\n",
      "See the caveats in the documentation: https://pandas.pydata.org/pandas-docs/stable/user_guide/indexing.html#returning-a-view-versus-a-copy\n",
      "  new_df['tags'] = new_df['tags'].apply(lambda x:x.lower())\n"
     ]
    }
   ],
   "source": [
    "new_df['tags'] = new_df['tags'].apply(lambda x:x.lower())"
   ]
  },
  {
   "cell_type": "code",
   "execution_count": 36,
   "metadata": {
    "id": "2RpUCOXSHtG-"
   },
   "outputs": [],
   "source": [
    "# now we are going to do text vectorisation"
   ]
  },
  {
   "cell_type": "code",
   "execution_count": 37,
   "metadata": {
    "id": "4Z9mvlQQHlHe"
   },
   "outputs": [],
   "source": [
    "from sklearn.feature_extraction.text import CountVectorizer\n",
    "cv = CountVectorizer(max_features=5000, stop_words='english')"
   ]
  },
  {
   "cell_type": "code",
   "execution_count": 38,
   "metadata": {
    "id": "RvOv1jixYIso"
   },
   "outputs": [],
   "source": [
    "vectors = cv.fit_transform(new_df['tags']).toarray()"
   ]
  },
  {
   "cell_type": "markdown",
   "metadata": {
    "id": "Tri9uoAoYhBX"
   },
   "source": [
    "now we got all the movies in the form of vectors"
   ]
  },
  {
   "cell_type": "code",
   "execution_count": 39,
   "metadata": {
    "colab": {
     "base_uri": "https://localhost:8080/"
    },
    "id": "gervmh4OYZF2",
    "outputId": "4b9ee023-257a-46f5-f2b8-ca2ffa72b2d4"
   },
   "outputs": [
    {
     "data": {
      "text/plain": [
       "array([0, 0, 0, ..., 0, 0, 0], dtype=int64)"
      ]
     },
     "execution_count": 39,
     "metadata": {},
     "output_type": "execute_result"
    }
   ],
   "source": [
    "vectors[0]"
   ]
  },
  {
   "cell_type": "code",
   "execution_count": 40,
   "metadata": {
    "colab": {
     "base_uri": "https://localhost:8080/"
    },
    "id": "sRuXZF0tXTzW",
    "outputId": "a8f39166-4097-48b4-8f6f-dc54425556b9"
   },
   "outputs": [
    {
     "data": {
      "text/plain": [
       "array(['000', '007', '10', ..., 'zone', 'zoo', 'zooeydeschanel'],\n",
       "      dtype=object)"
      ]
     },
     "execution_count": 40,
     "metadata": {},
     "output_type": "execute_result"
    }
   ],
   "source": [
    "cv.get_feature_names_out()"
   ]
  },
  {
   "cell_type": "code",
   "execution_count": 41,
   "metadata": {
    "id": "fYtMqDuvZgL7"
   },
   "outputs": [],
   "source": [
    "# now we need to group or make similar words same like love, loved == love only"
   ]
  },
  {
   "cell_type": "code",
   "execution_count": 42,
   "metadata": {
    "id": "oohvGnYUZaJb"
   },
   "outputs": [],
   "source": [
    "import nltk"
   ]
  },
  {
   "cell_type": "code",
   "execution_count": 43,
   "metadata": {
    "id": "_u0ZexLnY7WH"
   },
   "outputs": [],
   "source": [
    "from nltk.stem.porter import PorterStemmer\n",
    "ps = PorterStemmer()"
   ]
  },
  {
   "cell_type": "code",
   "execution_count": 44,
   "metadata": {
    "id": "648C6eg3aU0M"
   },
   "outputs": [],
   "source": [
    "def stem(text):\n",
    "  y =[]\n",
    "  for i in text.split():\n",
    "    y.append(ps.stem(i))\n",
    "\n",
    "  return \" \".join(y)"
   ]
  },
  {
   "cell_type": "code",
   "execution_count": 45,
   "metadata": {
    "colab": {
     "base_uri": "https://localhost:8080/"
    },
    "id": "eh7oLz8Fa70_",
    "outputId": "417fafcf-263b-47b0-e726-da16e18e1a6f"
   },
   "outputs": [
    {
     "name": "stderr",
     "output_type": "stream",
     "text": [
      "C:\\Users\\amanc\\AppData\\Local\\Temp\\ipykernel_15488\\3213734980.py:1: SettingWithCopyWarning: \n",
      "A value is trying to be set on a copy of a slice from a DataFrame.\n",
      "Try using .loc[row_indexer,col_indexer] = value instead\n",
      "\n",
      "See the caveats in the documentation: https://pandas.pydata.org/pandas-docs/stable/user_guide/indexing.html#returning-a-view-versus-a-copy\n",
      "  new_df['tags'] = new_df['tags'].apply(stem)\n"
     ]
    }
   ],
   "source": [
    "new_df['tags'] = new_df['tags'].apply(stem)"
   ]
  },
  {
   "cell_type": "code",
   "execution_count": 46,
   "metadata": {
    "id": "Ii7VATU6bVpa"
   },
   "outputs": [],
   "source": [
    "#now we have all the movies as vectors and the similar movies will be close to each\n",
    "# vector so we will compute cosine similarity insted of eucledian one bcous of higher dimentionatility"
   ]
  },
  {
   "cell_type": "code",
   "execution_count": 47,
   "metadata": {
    "id": "mIzRebDUbMfh"
   },
   "outputs": [],
   "source": [
    "from sklearn.metrics.pairwise import cosine_similarity"
   ]
  },
  {
   "cell_type": "code",
   "execution_count": 48,
   "metadata": {
    "id": "XX1-X8LzpqHm"
   },
   "outputs": [],
   "source": [
    "similarity = cosine_similarity(vectors)\n"
   ]
  },
  {
   "cell_type": "code",
   "execution_count": 49,
   "metadata": {
    "id": "YoacrrytrmIP"
   },
   "outputs": [
    {
     "data": {
      "text/plain": [
       "[(0, 1.0),\n",
       " (1, 0.08964214570007951),\n",
       " (2, 0.059761430466719674),\n",
       " (3, 0.03984095364447979),\n",
       " (4, 0.18257418583505536),\n",
       " (5, 0.1183452670827877),\n",
       " (6, 0.02258769757263128),\n",
       " (7, 0.1763834207376394),\n",
       " (8, 0.061721339984836754),\n",
       " (9, 0.07644707871564382),\n",
       " (10, 0.11769797726729994),\n",
       " (11, 0.081199794294115),\n",
       " (12, 0.09583148474999097),\n",
       " (13, 0.04733810683311508),\n",
       " (14, 0.11428571428571427),\n",
       " (15, 0.05096471914376255),\n",
       " (16, 0.08226127456606226),\n",
       " (17, 0.15026857675938213),\n",
       " (18, 0.1129384878631564),\n",
       " (19, 0.08728715609439694),\n",
       " (20, 0.058167505074711086),\n",
       " (21, 0.09583148474999097),\n",
       " (22, 0.07049073768502413),\n",
       " (23, 0.09583148474999097),\n",
       " (24, 0.0563436169819011),\n",
       " (25, 0.036454130828824455),\n",
       " (26, 0.17142857142857143),\n",
       " (27, 0.1893524273324603),\n",
       " (28, 0.12555296411486888),\n",
       " (29, 0.07100716024967263),\n",
       " (30, 0.07319250547113999),\n",
       " (31, 0.16265001215808886),\n",
       " (32, 0.09116846116771035),\n",
       " (33, 0.10350983390135313),\n",
       " (34, 0.0),\n",
       " (35, 0.10350983390135313),\n",
       " (36, 0.18478728707195913),\n",
       " (37, 0.08451542547285165),\n",
       " (38, 0.0628970902033151),\n",
       " (39, 0.08827348295047496),\n",
       " (40, 0.0563436169819011),\n",
       " (41, 0.14638501094227999),\n",
       " (42, 0.0),\n",
       " (43, 0.09759000729485333),\n",
       " (44, 0.03984095364447979),\n",
       " (45, 0.09116846116771035),\n",
       " (46, 0.1765469659009499),\n",
       " (47, 0.2164218276749025),\n",
       " (48, 0.06776309271789384),\n",
       " (49, 0.06388765649999398),\n",
       " (50, 0.12143534814378325),\n",
       " (51, 0.086568731069961),\n",
       " (52, 0.1389425035941821),\n",
       " (53, 0.04984447862792268),\n",
       " (54, 0.035245368842512066),\n",
       " (55, 0.07859774918918593),\n",
       " (56, 0.14414999403128942),\n",
       " (57, 0.028988551782622416),\n",
       " (58, 0.04688072309384954),\n",
       " (59, 0.08024108542850393),\n",
       " (60, 0.028571428571428567),\n",
       " (61, 0.22131333406899523),\n",
       " (62, 0.08199200616907877),\n",
       " (63, 0.09200874124564722),\n",
       " (64, 0.03138824102871722),\n",
       " (65, 0.020965696734438367),\n",
       " (66, 0.02492223931396134),\n",
       " (67, 0.17928429140015903),\n",
       " (68, 0.13522468075656266),\n",
       " (69, 0.0520265981714472),\n",
       " (70, 0.08696565534786725),\n",
       " (71, 0.081199794294115),\n",
       " (72, 0.12344267996967351),\n",
       " (73, 0.03688555567816587),\n",
       " (74, 0.22677868380553634),\n",
       " (75, 0.09107651110783743),\n",
       " (76, 0.07733088933397005),\n",
       " (77, 0.014824986333222025),\n",
       " (78, 0.0515539262226467),\n",
       " (79, 0.0791945516022682),\n",
       " (80, 0.03450327796711771),\n",
       " (81, 0.11710800875382396),\n",
       " (82, 0.08336550215650926),\n",
       " (83, 0.22190115272469205),\n",
       " (84, 0.1456438162508838),\n",
       " (85, 0.10631548679075009),\n",
       " (86, 0.08827348295047496),\n",
       " (87, 0.11595420713048966),\n",
       " (88, 0.09107651110783743),\n",
       " (89, 0.06121333677828399),\n",
       " (90, 0.06506000486323554),\n",
       " (91, 0.15971914124998493),\n",
       " (92, 0.0703210846407743),\n",
       " (93, 0.05096471914376255),\n",
       " (94, 0.16574838603294897),\n",
       " (95, 0.12461119656980668),\n",
       " (96, 0.08964214570007951),\n",
       " (97, 0.07476671794188401),\n",
       " (98, 0.09107651110783743),\n",
       " (99, 0.029424494316824985),\n",
       " (100, 0.07377111135633174),\n",
       " (101, 0.08827348295047496),\n",
       " (102, 0.11194341570991125),\n",
       " (103, 0.0880237696271323),\n",
       " (104, 0.059761430466719674),\n",
       " (105, 0.10811249552346706),\n",
       " (106, 0.0447773662839645),\n",
       " (107, 0.09200874124564722),\n",
       " (108, 0.16903085094570328),\n",
       " (109, 0.07968190728895957),\n",
       " (110, 0.024655683636076894),\n",
       " (111, 0.15179418517972906),\n",
       " (112, 0.09258200997725513),\n",
       " (113, 0.052164053095730106),\n",
       " (114, 0.0515539262226467),\n",
       " (115, 0.055577001437672836),\n",
       " (116, 0.057142857142857134),\n",
       " (117, 0.060717674071891624),\n",
       " (118, 0.017622684421256033),\n",
       " (119, 0.04829452884162951),\n",
       " (120, 0.0),\n",
       " (121, 0.09107651110783743),\n",
       " (122, 0.09759000729485331),\n",
       " (123, 0.12327841818038447),\n",
       " (124, 0.06776309271789384),\n",
       " (125, 0.08021849185198157),\n",
       " (126, 0.11595420713048966),\n",
       " (127, 0.13662601021279464),\n",
       " (128, 0.0),\n",
       " (129, 0.10559273546969093),\n",
       " (130, 0.03194382824999699),\n",
       " (131, 0.1126872339638022),\n",
       " (132, 0.04733810683311508),\n",
       " (133, 0.033806170189140665),\n",
       " (134, 0.13522468075656266),\n",
       " (135, 0.0),\n",
       " (136, 0.025482359571881275),\n",
       " (137, 0.03450327796711771),\n",
       " (138, 0.08336550215650926),\n",
       " (139, 0.10910894511799617),\n",
       " (140, 0.05096471914376255),\n",
       " (141, 0.11633501014942217),\n",
       " (142, 0.0994490316197694),\n",
       " (143, 0.06965451903188581),\n",
       " (144, 0.055577001437672836),\n",
       " (145, 0.02258769757263128),\n",
       " (146, 0.017434201093860163),\n",
       " (147, 0.06277648205743444),\n",
       " (148, 0.1057361065275362),\n",
       " (149, 0.1717355162964367),\n",
       " (150, 0.1901597073139162),\n",
       " (151, 0.19920476822239894),\n",
       " (152, 0.06388765649999398),\n",
       " (153, 0.08586775814821836),\n",
       " (154, 0.033149677206589796),\n",
       " (155, 0.0),\n",
       " (156, 0.06716604942594674),\n",
       " (157, 0.1057361065275362),\n",
       " (158, 0.15289415743128765),\n",
       " (159, 0.06761234037828133),\n",
       " (160, 0.09569487529386908),\n",
       " (161, 0.035245368842512066),\n",
       " (162, 0.03688555567816587),\n",
       " (163, 0.052796367734845466),\n",
       " (164, 0.09258200997725513),\n",
       " (165, 0.05039526306789696),\n",
       " (166, 0.11952286093343935),\n",
       " (167, 0.06761234037828133),\n",
       " (168, 0.16035674514745463),\n",
       " (169, 0.11952286093343936),\n",
       " (170, 0.09200874124564722),\n",
       " (171, 0.029880715233359837),\n",
       " (172, 0.15118578920369088),\n",
       " (173, 0.02492223931396134),\n",
       " (174, 0.11115400287534567),\n",
       " (175, 0.0515539262226467),\n",
       " (176, 0.030860669992418377),\n",
       " (177, 0.0),\n",
       " (178, 0.02577696311132335),\n",
       " (179, 0.07755667343294811),\n",
       " (180, 0.023002185311411804),\n",
       " (181, 0.02344036154692477),\n",
       " (182, 0.10826639239215334),\n",
       " (183, 0.07466533929465573),\n",
       " (184, 0.1825741858350554),\n",
       " (185, 0.055577001437672836),\n",
       " (186, 0.04040610178208843),\n",
       " (187, 0.14085904245475275),\n",
       " (188, 0.022792115291927588),\n",
       " (189, 0.08199200616907877),\n",
       " (190, 0.08386278693775347),\n",
       " (191, 0.05096471914376255),\n",
       " (192, 0.0),\n",
       " (193, 0.0880237696271323),\n",
       " (194, 0.0),\n",
       " (195, 0.06506000486323554),\n",
       " (196, 0.05797710356524483),\n",
       " (197, 0.047809144373375745),\n",
       " (198, 0.059761430466719674),\n",
       " (199, 0.11609086505314302),\n",
       " (200, 0.07968190728895957),\n",
       " (201, 0.0),\n",
       " (202, 0.03450327796711771),\n",
       " (203, 0.08827348295047496),\n",
       " (204, 0.02577696311132335),\n",
       " (205, 0.07968190728895957),\n",
       " (206, 0.1183452670827877),\n",
       " (207, 0.0857142857142857),\n",
       " (208, 0.1690308509457033),\n",
       " (209, 0.03779644730092272),\n",
       " (210, 0.05484084971070818),\n",
       " (211, 0.027066598098038335),\n",
       " (212, 0.07644707871564382),\n",
       " (213, 0.06492654830247076),\n",
       " (214, 0.029880715233359837),\n",
       " (215, 0.07319250547113999),\n",
       " (216, 0.06506000486323554),\n",
       " (217, 0.045584230583855176),\n",
       " (218, 0.042257712736425826),\n",
       " (219, 0.06629935441317959),\n",
       " (220, 0.18832944617230335),\n",
       " (221, 0.024655683636076894),\n",
       " (222, 0.09035079029052512),\n",
       " (223, 0.08336550215650926),\n",
       " (224, 0.06338656910463875),\n",
       " (225, 0.052796367734845466),\n",
       " (226, 0.029880715233359837),\n",
       " (227, 0.09258200997725513),\n",
       " (228, 0.12741179785940637),\n",
       " (229, 0.07755667343294811),\n",
       " (230, 0.08322503785764788),\n",
       " (231, 0.0),\n",
       " (232, 0.11952286093343935),\n",
       " (233, 0.1057361065275362),\n",
       " (234, 0.06776309271789384),\n",
       " (235, 0.059761430466719674),\n",
       " (236, 0.09583148474999097),\n",
       " (237, 0.06900655593423542),\n",
       " (238, 0.12777531299998796),\n",
       " (239, 0.11097419040461878),\n",
       " (240, 0.05096471914376255),\n",
       " (241, 0.08964214570007951),\n",
       " (242, 0.09416472308615166),\n",
       " (243, 0.09968895725584535),\n",
       " (244, 0.06277648205743444),\n",
       " (245, 0.09107651110783743),\n",
       " (246, 0.06601782722034923),\n",
       " (247, 0.0),\n",
       " (248, 0.04733810683311508),\n",
       " (249, 0.14414999403128942),\n",
       " (250, 0.0),\n",
       " (251, 0.042257712736425826),\n",
       " (252, 0.022792115291927588),\n",
       " (253, 0.06776309271789384),\n",
       " (254, 0.08226127456606226),\n",
       " (255, 0.0),\n",
       " (256, 0.08199200616907877),\n",
       " (257, 0.0857142857142857),\n",
       " (258, 0.02344036154692477),\n",
       " (259, 0.06388765649999398),\n",
       " (260, 0.25110592822973776),\n",
       " (261, 0.025482359571881275),\n",
       " (262, 0.07319250547113999),\n",
       " (263, 0.1057361065275362),\n",
       " (264, 0.0),\n",
       " (265, 0.029424494316824985),\n",
       " (266, 0.11115400287534567),\n",
       " (267, 0.07207499701564471),\n",
       " (268, 0.02742042485535409),\n",
       " (269, 0.033149677206589796),\n",
       " (270, 0.1031078524452934),\n",
       " (271, 0.0791945516022682),\n",
       " (272, 0.030860669992418377),\n",
       " (273, 0.024147264420814756),\n",
       " (274, 0.08095109602454656),\n",
       " (275, 0.12555296411486888),\n",
       " (276, 0.06629935441317959),\n",
       " (277, 0.06601782722034923),\n",
       " (278, 0.1031078524452934),\n",
       " (279, 0.1031078524452934),\n",
       " (280, 0.0),\n",
       " (281, 0.07319250547113999),\n",
       " (282, 0.030860669992418377),\n",
       " (283, 0.0),\n",
       " (284, 0.020348923188911988),\n",
       " (285, 0.022792115291927588),\n",
       " (286, 0.02258769757263128),\n",
       " (287, 0.02742042485535409),\n",
       " (288, 0.0),\n",
       " (289, 0.05039526306789696),\n",
       " (290, 0.06629935441317959),\n",
       " (291, 0.0563436169819011),\n",
       " (292, 0.10141851056742199),\n",
       " (293, 0.03194382824999699),\n",
       " (294, 0.11952286093343935),\n",
       " (295, 0.10968169942141635),\n",
       " (296, 0.041300810278220045),\n",
       " (297, 0.048795003647426664),\n",
       " (298, 0.0),\n",
       " (299, 0.041300810278220045),\n",
       " (300, 0.18478728707195913),\n",
       " (301, 0.1831403087002079),\n",
       " (302, 0.059761430466719674),\n",
       " (303, 0.028988551782622416),\n",
       " (304, 0.07207499701564471),\n",
       " (305, 0.19320245583349133),\n",
       " (306, 0.09416472308615166),\n",
       " (307, 0.10460520656316097),\n",
       " (308, 0.07049073768502413),\n",
       " (309, 0.06629935441317959),\n",
       " (310, 0.036244018814637485),\n",
       " (311, 0.1564921592871903),\n",
       " (312, 0.11115400287534567),\n",
       " (313, 0.07968190728895957),\n",
       " (314, 0.0),\n",
       " (315, 0.09107651110783743),\n",
       " (316, 0.0),\n",
       " (317, 0.0),\n",
       " (318, 0.0),\n",
       " (319, 0.07207499701564471),\n",
       " (320, 0.033806170189140665),\n",
       " (321, 0.0),\n",
       " (322, 0.22230800575069137),\n",
       " (323, 0.03253000243161777),\n",
       " (324, 0.026398183867422733),\n",
       " (325, 0.11338934190276817),\n",
       " (326, 0.059761430466719674),\n",
       " (327, 0.029424494316824985),\n",
       " (328, 0.0),\n",
       " (329, 0.08336550215650926),\n",
       " (330, 0.1126872339638022),\n",
       " (331, 0.04984447862792268),\n",
       " (332, 0.1449427589131121),\n",
       " (333, 0.030860669992418377),\n",
       " (334, 0.10690449676496976),\n",
       " (335, 0.055577001437672836),\n",
       " (336, 0.07377111135633174),\n",
       " (337, 0.024147264420814756),\n",
       " (338, 0.0),\n",
       " (339, 0.057142857142857134),\n",
       " (340, 0.052796367734845466),\n",
       " (341, 0.061721339984836754),\n",
       " (342, 0.13662601021279464),\n",
       " (343, 0.022792115291927588),\n",
       " (344, 0.03138824102871722),\n",
       " (345, 0.02366905341655754),\n",
       " (346, 0.0),\n",
       " (347, 0.0),\n",
       " (348, 0.06761234037828133),\n",
       " (349, 0.09258200997725513),\n",
       " (350, 0.05484084971070818),\n",
       " (351, 0.0),\n",
       " (352, 0.029880715233359837),\n",
       " (353, 0.023904572186687872),\n",
       " (354, 0.0),\n",
       " (355, 0.03984095364447979),\n",
       " (356, 0.09107651110783743),\n",
       " (357, 0.0),\n",
       " (358, 0.06506000486323554),\n",
       " (359, 0.03450327796711771),\n",
       " (360, 0.0),\n",
       " (361, 0.057142857142857134),\n",
       " (362, 0.09759000729485331),\n",
       " (363, 0.09116846116771035),\n",
       " (364, 0.026082026547865053),\n",
       " (365, 0.081199794294115),\n",
       " (366, 0.059761430466719674),\n",
       " (367, 0.0),\n",
       " (368, 0.13522468075656266),\n",
       " (369, 0.09258200997725513),\n",
       " (370, 0.0563436169819011),\n",
       " (371, 0.1031078524452934),\n",
       " (372, 0.05345224838248488),\n",
       " (373, 0.17622684421256032),\n",
       " (374, 0.04401188481356615),\n",
       " (375, 0.0432843655349805),\n",
       " (376, 0.048795003647426664),\n",
       " (377, 0.0),\n",
       " (378, 0.0),\n",
       " (379, 0.05345224838248487),\n",
       " (380, 0.02817180849095055),\n",
       " (381, 0.09035079029052512),\n",
       " (382, 0.0),\n",
       " (383, 0.0515539262226467),\n",
       " (384, 0.03253000243161777),\n",
       " (385, 0.0),\n",
       " (386, 0.023218173010628604),\n",
       " (387, 0.027066598098038335),\n",
       " (388, 0.0),\n",
       " (389, 0.09944903161976938),\n",
       " (390, 0.028571428571428567),\n",
       " (391, 0.061046769566735964),\n",
       " (392, 0.03138824102871722),\n",
       " (393, 0.0),\n",
       " (394, 0.026082026547865053),\n",
       " (395, 0.057142857142857134),\n",
       " (396, 0.02344036154692477),\n",
       " (397, 0.055577001437672836),\n",
       " (398, 0.0),\n",
       " (399, 0.02577696311132335),\n",
       " (400, 0.10350983390135313),\n",
       " (401, 0.03194382824999699),\n",
       " (402, 0.06277648205743444),\n",
       " (403, 0.1109741904046188),\n",
       " (404, 0.06761234037828133),\n",
       " (405, 0.030860669992418377),\n",
       " (406, 0.021821789023599235),\n",
       " (407, 0.02577696311132335),\n",
       " (408, 0.03688555567816587),\n",
       " (409, 0.0),\n",
       " (410, 0.10079052613579392),\n",
       " (411, 0.05797710356524483),\n",
       " (412, 0.1031078524452934),\n",
       " (413, 0.1389425035941821),\n",
       " (414, 0.033149677206589796),\n",
       " (415, 0.0708769911938334),\n",
       " (416, 0.0563436169819011),\n",
       " (417, 0.03450327796711771),\n",
       " (418, 0.03779644730092272),\n",
       " (419, 0.07644707871564382),\n",
       " (420, 0.12888481555661674),\n",
       " (421, 0.0),\n",
       " (422, 0.14754222271266348),\n",
       " (423, 0.0515539262226467),\n",
       " (424, 0.040697846377823976),\n",
       " (425, 0.07100716024967263),\n",
       " (426, 0.06195121541733006),\n",
       " (427, 0.030860669992418377),\n",
       " (428, 0.05976143046671968),\n",
       " (429, 0.0),\n",
       " (430, 0.052164053095730106),\n",
       " (431, 0.02577696311132335),\n",
       " (432, 0.12598815766974242),\n",
       " (433, 0.033149677206589796),\n",
       " (434, 0.0),\n",
       " (435, 0.03984095364447979),\n",
       " (436, 0.0),\n",
       " (437, 0.028988551782622416),\n",
       " (438, 0.028571428571428567),\n",
       " (439, 0.030860669992418377),\n",
       " (440, 0.028571428571428567),\n",
       " (441, 0.030358837035945812),\n",
       " (442, 0.04829452884162951),\n",
       " (443, 0.05884898863364997),\n",
       " (444, 0.0),\n",
       " (445, 0.028571428571428567),\n",
       " (446, 0.02577696311132335),\n",
       " (447, 0.023904572186687872),\n",
       " (448, 0.02577696311132335),\n",
       " (449, 0.05884898863364997),\n",
       " (450, 0.026398183867422733),\n",
       " (451, 0.026082026547865053),\n",
       " (452, 0.03194382824999699),\n",
       " (453, 0.02672612419124244),\n",
       " (454, 0.1246111965698067),\n",
       " (455, 0.024655683636076894),\n",
       " (456, 0.0703210846407743),\n",
       " (457, 0.08827348295047496),\n",
       " (458, 0.04733810683311508),\n",
       " (459, 0.036037498507822355),\n",
       " (460, 0.028571428571428567),\n",
       " (461, 0.18018749253911176),\n",
       " (462, 0.0),\n",
       " (463, 0.035245368842512066),\n",
       " (464, 0.0),\n",
       " (465, 0.0),\n",
       " (466, 0.2114722130550724),\n",
       " (467, 0.09200874124564722),\n",
       " (468, 0.030358837035945812),\n",
       " (469, 0.0703210846407743),\n",
       " (470, 0.04931136727215379),\n",
       " (471, 0.08336550215650926),\n",
       " (472, 0.08451542547285165),\n",
       " (473, 0.1019294382875251),\n",
       " (474, 0.0),\n",
       " (475, 0.06837634587578276),\n",
       " (476, 0.10811249552346706),\n",
       " (477, 0.0),\n",
       " (478, 0.04040610178208843),\n",
       " (479, 0.09508728264112047),\n",
       " (480, 0.052164053095730106),\n",
       " (481, 0.0),\n",
       " (482, 0.030358837035945812),\n",
       " (483, 0.1301200097264711),\n",
       " (484, 0.03450327796711771),\n",
       " (485, 0.057142857142857134),\n",
       " (486, 0.05855400437691198),\n",
       " (487, 0.14098147537004826),\n",
       " (488, 0.07655590023509526),\n",
       " (489, 0.0),\n",
       " (490, 0.15118578920369088),\n",
       " (491, 0.09116846116771035),\n",
       " (492, 0.06277648205743444),\n",
       " (493, 0.01951800145897066),\n",
       " (494, 0.0),\n",
       " (495, 0.2162249910469341),\n",
       " (496, 0.0),\n",
       " (497, 0.0),\n",
       " (498, 0.07207499701564471),\n",
       " (499, 0.0),\n",
       " (500, 0.027788500718836418),\n",
       " (501, 0.0880237696271323),\n",
       " (502, 0.15289415743128765),\n",
       " (503, 0.08451542547285165),\n",
       " (504, 0.0),\n",
       " (505, 0.14754222271266348),\n",
       " (506, 0.036037498507822355),\n",
       " (507, 0.25302403842552984),\n",
       " (508, 0.11595420713048966),\n",
       " (509, 0.02577696311132335),\n",
       " (510, 0.10559273546969093),\n",
       " (511, 0.09583148474999097),\n",
       " (512, 0.060717674071891624),\n",
       " (513, 0.11769797726729994),\n",
       " (514, 0.059761430466719674),\n",
       " (515, 0.027066598098038335),\n",
       " (516, 0.026082026547865053),\n",
       " (517, 0.0),\n",
       " (518, 0.05484084971070818),\n",
       " (519, 0.0),\n",
       " (520, 0.0),\n",
       " (521, 0.028988551782622416),\n",
       " (522, 0.0),\n",
       " (523, 0.052164053095730106),\n",
       " (524, 0.0),\n",
       " (525, 0.02492223931396134),\n",
       " (526, 0.0),\n",
       " (527, 0.0),\n",
       " (528, 0.02519763153394848),\n",
       " (529, 0.13041013273932528),\n",
       " (530, 0.10141851056742199),\n",
       " (531, 0.05039526306789696),\n",
       " (532, 0.023218173010628604),\n",
       " (533, 0.07049073768502413),\n",
       " (534, 0.08451542547285165),\n",
       " (535, 0.10968169942141635),\n",
       " (536, 0.07644707871564382),\n",
       " (537, 0.07049073768502413),\n",
       " (538, 0.0),\n",
       " (539, 0.26089696604360174),\n",
       " (540, 0.0563436169819011),\n",
       " (541, 0.06965451903188581),\n",
       " (542, 0.04040610178208843),\n",
       " (543, 0.08827348295047496),\n",
       " (544, 0.060717674071891624),\n",
       " (545, 0.028571428571428567),\n",
       " (546, 0.06629935441317959),\n",
       " (547, 0.08827348295047496),\n",
       " (548, 0.0),\n",
       " (549, 0.1246111965698067),\n",
       " (550, 0.028571428571428567),\n",
       " (551, 0.0447773662839645),\n",
       " (552, 0.0),\n",
       " (553, 0.03253000243161777),\n",
       " (554, 0.0),\n",
       " (555, 0.0497245158098847),\n",
       " (556, 0.028988551782622416),\n",
       " (557, 0.1449427589131121),\n",
       " (558, 0.0),\n",
       " (559, 0.03253000243161777),\n",
       " (560, 0.04643634602125721),\n",
       " (561, 0.03688555567816587),\n",
       " (562, 0.0),\n",
       " (563, 0.02742042485535409),\n",
       " (564, 0.0994490316197694),\n",
       " (565, 0.04600437062282361),\n",
       " (566, 0.024655683636076894),\n",
       " (567, 0.030358837035945812),\n",
       " (568, 0.1449427589131121),\n",
       " (569, 0.024397501823713332),\n",
       " (570, 0.07559289460184544),\n",
       " (571, 0.021821789023599235),\n",
       " (572, 0.08656873106996099),\n",
       " (573, 0.02258769757263128),\n",
       " (574, 0.024397501823713332),\n",
       " (575, 0.057142857142857134),\n",
       " (576, 0.028988551782622416),\n",
       " (577, 0.15430334996209188),\n",
       " (578, 0.04829452884162951),\n",
       " (579, 0.12344267996967351),\n",
       " (580, 0.02519763153394848),\n",
       " (581, 0.16574838603294897),\n",
       " (582, 0.24397501823713333),\n",
       " (583, 0.052164053095730106),\n",
       " (584, 0.05096471914376255),\n",
       " (585, 0.0),\n",
       " (586, 0.045584230583855176),\n",
       " (587, 0.07824607964359516),\n",
       " (588, 0.028988551782622416),\n",
       " (589, 0.09862273454430757),\n",
       " (590, 0.035245368842512066),\n",
       " (591, 0.07733088933397005),\n",
       " (592, 0.027066598098038335),\n",
       " (593, 0.0),\n",
       " (594, 0.05484084971070818),\n",
       " (595, 0.13533299049019168),\n",
       " (596, 0.09658905768325902),\n",
       " (597, 0.05797710356524483),\n",
       " (598, 0.03984095364447979),\n",
       " (599, 0.03363839659676322),\n",
       " (600, 0.07244179326244427),\n",
       " (601, 0.03688555567816587),\n",
       " (602, 0.04517539514526256),\n",
       " (603, 0.05797710356524483),\n",
       " (604, 0.07049073768502413),\n",
       " (605, 0.0),\n",
       " (606, 0.0),\n",
       " (607, 0.06492654830247076),\n",
       " (608, 0.0),\n",
       " (609, 0.047809144373375745),\n",
       " (610, 0.06060915267313264),\n",
       " (611, 0.02492223931396134),\n",
       " (612, 0.07100716024967263),\n",
       " (613, 0.03877833671647406),\n",
       " (614, 0.059761430466719674),\n",
       " (615, 0.033149677206589796),\n",
       " (616, 0.0),\n",
       " (617, 0.055577001437672836),\n",
       " (618, 0.09862273454430757),\n",
       " (619, 0.0),\n",
       " (620, 0.0),\n",
       " (621, 0.07049073768502413),\n",
       " (622, 0.02238868314198225),\n",
       " (623, 0.0),\n",
       " (624, 0.12298800925361816),\n",
       " (625, 0.03194382824999699),\n",
       " (626, 0.09258200997725513),\n",
       " (627, 0.11633501014942217),\n",
       " (628, 0.0),\n",
       " (629, 0.04984447862792268),\n",
       " (630, 0.02577696311132335),\n",
       " (631, 0.02742042485535409),\n",
       " (632, 0.08336550215650926),\n",
       " (633, 0.023904572186687872),\n",
       " (634, 0.08696565534786725),\n",
       " (635, 0.07559289460184544),\n",
       " (636, 0.028571428571428567),\n",
       " (637, 0.052796367734845466),\n",
       " (638, 0.036037498507822355),\n",
       " (639, 0.0),\n",
       " (640, 0.0515539262226467),\n",
       " (641, 0.0),\n",
       " (642, 0.0),\n",
       " (643, 0.10690449676496976),\n",
       " (644, 0.05797710356524483),\n",
       " (645, 0.047809144373375745),\n",
       " (646, 0.055577001437672836),\n",
       " (647, 0.052796367734845466),\n",
       " (648, 0.03253000243161777),\n",
       " (649, 0.0),\n",
       " (650, 0.0),\n",
       " (651, 0.0),\n",
       " (652, 0.024655683636076894),\n",
       " (653, 0.12298800925361816),\n",
       " (654, 0.089554732567929),\n",
       " (655, 0.026082026547865053),\n",
       " (656, 0.0),\n",
       " (657, 0.037332669647327864),\n",
       " (658, 0.05345224838248488),\n",
       " (659, 0.027066598098038335),\n",
       " (660, 0.10350983390135313),\n",
       " (661, 0.17036708399998393),\n",
       " (662, 0.0),\n",
       " (663, 0.0),\n",
       " (664, 0.06506000486323554),\n",
       " (665, 0.0791945516022682),\n",
       " (666, 0.052164053095730106),\n",
       " (667, 0.0),\n",
       " (668, 0.07049073768502413),\n",
       " (669, 0.036037498507822355),\n",
       " (670, 0.017817416127494958),\n",
       " (671, 0.05413319619607667),\n",
       " (672, 0.05884898863364997),\n",
       " (673, 0.023002185311411804),\n",
       " (674, 0.07396705090823068),\n",
       " (675, 0.0515539262226467),\n",
       " (676, 0.033149677206589796),\n",
       " (677, 0.027788500718836418),\n",
       " (678, 0.06277648205743444),\n",
       " (679, 0.0),\n",
       " (680, 0.08451542547285165),\n",
       " (681, 0.035245368842512066),\n",
       " (682, 0.024147264420814756),\n",
       " (683, 0.0515539262226467),\n",
       " (684, 0.0),\n",
       " (685, 0.03779644730092272),\n",
       " (686, 0.0),\n",
       " (687, 0.11595420713048966),\n",
       " (688, 0.05096471914376255),\n",
       " (689, 0.0),\n",
       " (690, 0.028988551782622416),\n",
       " (691, 0.10141851056742199),\n",
       " (692, 0.12073632210407378),\n",
       " (693, 0.0),\n",
       " (694, 0.022792115291927588),\n",
       " (695, 0.06900655593423542),\n",
       " (696, 0.0),\n",
       " (697, 0.0),\n",
       " (698, 0.02366905341655754),\n",
       " (699, 0.0),\n",
       " (700, 0.030860669992418377),\n",
       " (701, 0.06506000486323554),\n",
       " (702, 0.024397501823713332),\n",
       " (703, 0.020965696734438367),\n",
       " (704, 0.07396705090823068),\n",
       " (705, 0.025482359571881275),\n",
       " (706, 0.026082026547865053),\n",
       " (707, 0.0),\n",
       " (708, 0.025482359571881275),\n",
       " (709, 0.0),\n",
       " (710, 0.0447773662839645),\n",
       " (711, 0.06629935441317959),\n",
       " (712, 0.0),\n",
       " (713, 0.02742042485535409),\n",
       " (714, 0.0),\n",
       " (715, 0.1057361065275362),\n",
       " (716, 0.035245368842512066),\n",
       " (717, 0.0),\n",
       " (718, 0.04643634602125721),\n",
       " (719, 0.0),\n",
       " (720, 0.02742042485535409),\n",
       " (721, 0.033149677206589796),\n",
       " (722, 0.0),\n",
       " (723, 0.02672612419124244),\n",
       " (724, 0.02577696311132335),\n",
       " (725, 0.0),\n",
       " (726, 0.0),\n",
       " (727, 0.036454130828824455),\n",
       " (728, 0.07559289460184544),\n",
       " (729, 0.0),\n",
       " (730, 0.019138975058773815),\n",
       " (731, 0.05484084971070818),\n",
       " (732, 0.0791945516022682),\n",
       " (733, 0.0447773662839645),\n",
       " (734, 0.05039526306789696),\n",
       " (735, 0.04984447862792268),\n",
       " (736, 0.033149677206589796),\n",
       " (737, 0.08017837257372731),\n",
       " (738, 0.0),\n",
       " (739, 0.03877833671647406),\n",
       " (740, 0.13199091933711365),\n",
       " (741, 0.05884898863364997),\n",
       " (742, 0.03450327796711771),\n",
       " (743, 0.02577696311132335),\n",
       " (744, 0.06761234037828133),\n",
       " (745, 0.06277648205743444),\n",
       " (746, 0.08696565534786725),\n",
       " (747, 0.024147264420814756),\n",
       " (748, 0.03779644730092272),\n",
       " (749, 0.0),\n",
       " (750, 0.0515539262226467),\n",
       " (751, 0.03779644730092272),\n",
       " (752, 0.08451542547285165),\n",
       " (753, 0.029424494316824985),\n",
       " (754, 0.10826639239215334),\n",
       " (755, 0.06388765649999398),\n",
       " (756, 0.030358837035945812),\n",
       " (757, 0.027788500718836418),\n",
       " (758, 0.02577696311132335),\n",
       " (759, 0.0),\n",
       " (760, 0.0),\n",
       " (761, 0.029880715233359837),\n",
       " (762, 0.03253000243161777),\n",
       " (763, 0.0),\n",
       " (764, 0.03138824102871722),\n",
       " (765, 0.0),\n",
       " (766, 0.0),\n",
       " (767, 0.05039526306789696),\n",
       " (768, 0.0654653670707977),\n",
       " (769, 0.033149677206589796),\n",
       " (770, 0.04931136727215379),\n",
       " (771, 0.0),\n",
       " (772, 0.0),\n",
       " (773, 0.11065666703449761),\n",
       " (774, 0.04517539514526256),\n",
       " (775, 0.09258200997725513),\n",
       " (776, 0.08451542547285165),\n",
       " (777, 0.11501092655705902),\n",
       " (778, 0.13041013273932528),\n",
       " (779, 0.0),\n",
       " (780, 0.0),\n",
       " (781, 0.10350983390135313),\n",
       " (782, 0.07559289460184544),\n",
       " (783, 0.035245368842512066),\n",
       " (784, 0.07733088933397005),\n",
       " (785, 0.09960238411119947),\n",
       " (786, 0.09107651110783743),\n",
       " (787, 0.08696565534786725),\n",
       " (788, 0.052164053095730106),\n",
       " (789, 0.0),\n",
       " (790, 0.07171371656006362),\n",
       " (791, 0.10141851056742199),\n",
       " (792, 0.05884898863364997),\n",
       " (793, 0.0563436169819011),\n",
       " (794, 0.09583148474999097),\n",
       " (795, 0.02366905341655754),\n",
       " (796, 0.03877833671647406),\n",
       " (797, 0.0),\n",
       " (798, 0.0),\n",
       " (799, 0.09390602830316849),\n",
       " (800, 0.07968190728895957),\n",
       " (801, 0.0),\n",
       " (802, 0.0),\n",
       " (803, 0.05096471914376255),\n",
       " (804, 0.052796367734845466),\n",
       " (805, 0.05884898863364997),\n",
       " (806, 0.04931136727215379),\n",
       " (807, 0.05413319619607667),\n",
       " (808, 0.11952286093343936),\n",
       " (809, 0.022792115291927588),\n",
       " (810, 0.028988551782622416),\n",
       " (811, 0.023002185311411804),\n",
       " (812, 0.09116846116771035),\n",
       " (813, 0.1019294382875251),\n",
       " (814, 0.08964214570007951),\n",
       " (815, 0.02344036154692477),\n",
       " (816, 0.04517539514526256),\n",
       " (817, 0.027788500718836418),\n",
       " (818, 0.03194382824999699),\n",
       " (819, 0.0),\n",
       " (820, 0.017917234365811652),\n",
       " (821, 0.018553546269482774),\n",
       " (822, 0.02238868314198225),\n",
       " (823, 0.06277648205743444),\n",
       " (824, 0.0),\n",
       " (825, 0.0),\n",
       " (826, 0.036037498507822355),\n",
       " (827, 0.07559289460184544),\n",
       " (828, 0.027788500718836418),\n",
       " (829, 0.0),\n",
       " (830, 0.030358837035945812),\n",
       " (831, 0.05039526306789696),\n",
       " (832, 0.027788500718836418),\n",
       " (833, 0.05039526306789696),\n",
       " (834, 0.05039526306789696),\n",
       " (835, 0.02742042485535409),\n",
       " (836, 0.06776309271789384),\n",
       " (837, 0.028988551782622416),\n",
       " (838, 0.1690308509457033),\n",
       " (839, 0.0),\n",
       " (840, 0.06277648205743444),\n",
       " (841, 0.026398183867422733),\n",
       " (842, 0.0),\n",
       " (843, 0.061721339984836754),\n",
       " (844, 0.061721339984836754),\n",
       " (845, 0.0),\n",
       " (846, 0.0),\n",
       " (847, 0.060963994247895004),\n",
       " (848, 0.05976143046671968),\n",
       " (849, 0.0),\n",
       " (850, 0.08199200616907877),\n",
       " (851, 0.0),\n",
       " (852, 0.023218173010628604),\n",
       " (853, 0.03253000243161777),\n",
       " (854, 0.11428571428571427),\n",
       " (855, 0.027788500718836418),\n",
       " (856, 0.026082026547865053),\n",
       " (857, 0.0),\n",
       " (858, 0.042257712736425826),\n",
       " (859, 0.11952286093343935),\n",
       " (860, 0.017527682734987296),\n",
       " (861, 0.0447773662839645),\n",
       " (862, 0.028988551782622416),\n",
       " (863, 0.03253000243161777),\n",
       " (864, 0.0447773662839645),\n",
       " (865, 0.0),\n",
       " (866, 0.042257712736425826),\n",
       " (867, 0.0),\n",
       " (868, 0.02492223931396134),\n",
       " (869, 0.03138824102871722),\n",
       " (870, 0.1031078524452934),\n",
       " (871, 0.029424494316824985),\n",
       " (872, 0.0),\n",
       " (873, 0.04600437062282361),\n",
       " (874, 0.02742042485535409),\n",
       " (875, 0.055577001437672836),\n",
       " (876, 0.0),\n",
       " (877, 0.0),\n",
       " (878, 0.036037498507822355),\n",
       " (879, 0.0),\n",
       " (880, 0.033149677206589796),\n",
       " (881, 0.0),\n",
       " (882, 0.029424494316824985),\n",
       " (883, 0.029424494316824985),\n",
       " (884, 0.0),\n",
       " (885, 0.08336550215650926),\n",
       " (886, 0.023218173010628604),\n",
       " (887, 0.05778855963970646),\n",
       " (888, 0.04984447862792268),\n",
       " (889, 0.07207499701564471),\n",
       " (890, 0.0),\n",
       " (891, 0.04517539514526256),\n",
       " (892, 0.0),\n",
       " (893, 0.020203050891044214),\n",
       " (894, 0.09107651110783743),\n",
       " (895, 0.0),\n",
       " (896, 0.0),\n",
       " (897, 0.05096471914376255),\n",
       " (898, 0.10559273546969093),\n",
       " (899, 0.08827348295047496),\n",
       " (900, 0.11428571428571427),\n",
       " (901, 0.09416472308615166),\n",
       " (902, 0.027788500718836418),\n",
       " (903, 0.03450327796711771),\n",
       " (904, 0.02366905341655754),\n",
       " (905, 0.0),\n",
       " (906, 0.0),\n",
       " (907, 0.024655683636076894),\n",
       " (908, 0.0791945516022682),\n",
       " (909, 0.0),\n",
       " (910, 0.02344036154692477),\n",
       " (911, 0.024655683636076894),\n",
       " (912, 0.033806170189140665),\n",
       " (913, 0.0),\n",
       " (914, 0.036037498507822355),\n",
       " (915, 0.02742042485535409),\n",
       " (916, 0.0),\n",
       " (917, 0.03138824102871722),\n",
       " (918, 0.0),\n",
       " (919, 0.025482359571881275),\n",
       " (920, 0.10350983390135313),\n",
       " (921, 0.0),\n",
       " (922, 0.09583148474999097),\n",
       " (923, 0.0),\n",
       " (924, 0.0),\n",
       " (925, 0.021128856368212913),\n",
       " (926, 0.0),\n",
       " (927, 0.0),\n",
       " (928, 0.0),\n",
       " (929, 0.057142857142857134),\n",
       " (930, 0.02672612419124244),\n",
       " (931, 0.18832944617230335),\n",
       " (932, 0.052164053095730106),\n",
       " (933, 0.1019294382875251),\n",
       " (934, 0.029880715233359837),\n",
       " (935, 0.1057361065275362),\n",
       " (936, 0.0),\n",
       " (937, 0.09107651110783743),\n",
       " (938, 0.0),\n",
       " (939, 0.12777531299998796),\n",
       " (940, 0.0),\n",
       " (941, 0.03253000243161777),\n",
       " (942, 0.21251185925162067),\n",
       " (943, 0.0),\n",
       " (944, 0.0),\n",
       " (945, 0.06761234037828133),\n",
       " (946, 0.02519763153394848),\n",
       " (947, 0.0),\n",
       " (948, 0.0),\n",
       " (949, 0.0),\n",
       " (950, 0.04040610178208843),\n",
       " (951, 0.06900655593423542),\n",
       " (952, 0.026082026547865053),\n",
       " (953, 0.02577696311132335),\n",
       " (954, 0.0),\n",
       " (955, 0.028571428571428567),\n",
       " (956, 0.05484084971070818),\n",
       " (957, 0.035245368842512066),\n",
       " (958, 0.0),\n",
       " (959, 0.02672612419124244),\n",
       " (960, 0.09416472308615166),\n",
       " (961, 0.05413319619607667),\n",
       " (962, 0.025482359571881275),\n",
       " (963, 0.05039526306789696),\n",
       " (964, 0.030358837035945812),\n",
       " (965, 0.0),\n",
       " (966, 0.0),\n",
       " (967, 0.03984095364447979),\n",
       " (968, 0.0),\n",
       " (969, 0.04401188481356615),\n",
       " (970, 0.0),\n",
       " (971, 0.033806170189140665),\n",
       " (972, 0.21602468994692864),\n",
       " (973, 0.20291986247835692),\n",
       " (974, 0.02533879584034814),\n",
       " (975, 0.02478788664079178),\n",
       " (976, 0.03253000243161777),\n",
       " (977, 0.0),\n",
       " (978, 0.0),\n",
       " (979, 0.07644707871564382),\n",
       " (980, 0.09416472308615166),\n",
       " (981, 0.04931136727215379),\n",
       " (982, 0.04438967616184752),\n",
       " (983, 0.0),\n",
       " (984, 0.03138824102871722),\n",
       " (985, 0.017074694419062765),\n",
       " (986, 0.0),\n",
       " (987, 0.08451542547285165),\n",
       " (988, 0.10826639239215334),\n",
       " (989, 0.030860669992418377),\n",
       " (990, 0.0),\n",
       " (991, 0.035245368842512066),\n",
       " (992, 0.04733810683311508),\n",
       " (993, 0.033149677206589796),\n",
       " (994, 0.0),\n",
       " (995, 0.03877833671647406),\n",
       " (996, 0.057142857142857134),\n",
       " (997, 0.07476671794188401),\n",
       " (998, 0.06506000486323554),\n",
       " (999, 0.0),\n",
       " ...]"
      ]
     },
     "execution_count": 49,
     "metadata": {},
     "output_type": "execute_result"
    }
   ],
   "source": [
    "list(enumerate(similarity[0]))# we got the index of each movie so now when we will sort we will not loose their indexes"
   ]
  },
  {
   "cell_type": "markdown",
   "metadata": {
    "id": "VV3arygpsv5q"
   },
   "source": [
    "we sorted the most similar movies based on their similarities along with their indexes so that we do not loose their hold and sorted, got the top five movies similar to it"
   ]
  },
  {
   "cell_type": "code",
   "execution_count": 50,
   "metadata": {
    "colab": {
     "base_uri": "https://localhost:8080/"
    },
    "id": "SvAaZWYAqflF",
    "outputId": "abf1e76b-42a1-4fa2-e661-cf6669bc36e5"
   },
   "outputs": [
    {
     "data": {
      "text/plain": [
       "[(539, 0.26089696604360174),\n",
       " (1194, 0.2581988897471611),\n",
       " (507, 0.25302403842552984),\n",
       " (260, 0.25110592822973776),\n",
       " (1216, 0.24944382578492943)]"
      ]
     },
     "execution_count": 50,
     "metadata": {},
     "output_type": "execute_result"
    }
   ],
   "source": [
    "sorted(list(enumerate(similarity[0])), reverse=True,key=lambda x:x[1])[1:6]"
   ]
  },
  {
   "cell_type": "code",
   "execution_count": 51,
   "metadata": {
    "id": "54kLBSMRp94X"
   },
   "outputs": [],
   "source": [
    "def recommend(movie):\n",
    "  movie_index = new_df[new_df['title'] == movie].index[0]\n",
    "  distances = similarity[movie_index]\n",
    "  movies_list=sorted(list(enumerate(distances)), reverse=True,key=lambda x:x[1])[1:6]\n",
    "  for i in movies_list:\n",
    "    print(new_df.iloc[i[0]].title)\n"
   ]
  },
  {
   "cell_type": "code",
   "execution_count": 52,
   "metadata": {
    "colab": {
     "base_uri": "https://localhost:8080/"
    },
    "id": "I2s4ptRZai-S",
    "outputId": "f2449d0a-0279-4bc4-d542-6bf7555bf548"
   },
   "outputs": [
    {
     "name": "stdout",
     "output_type": "stream",
     "text": [
      "The Dark Knight\n",
      "The Dark Knight Rises\n",
      "Batman\n",
      "Batman & Robin\n",
      "Batman\n"
     ]
    }
   ],
   "source": [
    "recommend('Batman Begins')"
   ]
  },
  {
   "cell_type": "code",
   "execution_count": 53,
   "metadata": {
    "colab": {
     "base_uri": "https://localhost:8080/",
     "height": 36
    },
    "id": "zWJ3OOBLaNIX",
    "outputId": "999e4183-0791-4e02-82c8-98f6032a57d6"
   },
   "outputs": [
    {
     "data": {
      "text/plain": [
       "'Aliens vs Predator: Requiem'"
      ]
     },
     "execution_count": 53,
     "metadata": {},
     "output_type": "execute_result"
    }
   ],
   "source": [
    "new_df.iloc[1216].title"
   ]
  },
  {
   "cell_type": "code",
   "execution_count": 56,
   "metadata": {},
   "outputs": [],
   "source": [
    "import pickle"
   ]
  },
  {
   "cell_type": "code",
   "execution_count": 64,
   "metadata": {},
   "outputs": [],
   "source": [
    "pickle.dump(new_df, open('movies.pkl','wb'))"
   ]
  },
  {
   "cell_type": "code",
   "execution_count": 65,
   "metadata": {},
   "outputs": [],
   "source": [
    "# there was error when tried to send my dataframe so now sending a dictionary instead"
   ]
  },
  {
   "cell_type": "code",
   "execution_count": 66,
   "metadata": {},
   "outputs": [
    {
     "data": {
      "text/plain": [
       "array(['Avatar', \"Pirates of the Caribbean: At World's End\", 'Spectre',\n",
       "       ..., 'Signed, Sealed, Delivered', 'Shanghai Calling',\n",
       "       'My Date with Drew'], dtype=object)"
      ]
     },
     "execution_count": 66,
     "metadata": {},
     "output_type": "execute_result"
    }
   ],
   "source": [
    "new_df['title'].values"
   ]
  },
  {
   "cell_type": "code",
   "execution_count": 67,
   "metadata": {},
   "outputs": [],
   "source": [
    "pickle.dump(new_df.to_dict(), open('movies_dict.pkl','wb'))"
   ]
  },
  {
   "cell_type": "code",
   "execution_count": 69,
   "metadata": {},
   "outputs": [],
   "source": [
    "pickle.dump(similarity, open('similarity.pkl','wb'))"
   ]
  },
  {
   "cell_type": "code",
   "execution_count": null,
   "metadata": {},
   "outputs": [],
   "source": []
  },
  {
   "cell_type": "code",
   "execution_count": null,
   "metadata": {},
   "outputs": [],
   "source": []
  }
 ],
 "metadata": {
  "accelerator": "GPU",
  "colab": {
   "gpuType": "T4",
   "provenance": []
  },
  "kernelspec": {
   "display_name": "Python 3 (ipykernel)",
   "language": "python",
   "name": "python3"
  },
  "language_info": {
   "codemirror_mode": {
    "name": "ipython",
    "version": 3
   },
   "file_extension": ".py",
   "mimetype": "text/x-python",
   "name": "python",
   "nbconvert_exporter": "python",
   "pygments_lexer": "ipython3",
   "version": "3.9.16"
  }
 },
 "nbformat": 4,
 "nbformat_minor": 1
}
